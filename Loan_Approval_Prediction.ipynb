{
  "nbformat": 4,
  "nbformat_minor": 0,
  "metadata": {
    "colab": {
      "provenance": [],
      "gpuType": "T4",
      "authorship_tag": "ABX9TyMQtTXLQ7Y25+89qiMem/bx",
      "include_colab_link": true
    },
    "kernelspec": {
      "name": "python3",
      "display_name": "Python 3"
    },
    "language_info": {
      "name": "python"
    },
    "accelerator": "GPU"
  },
  "cells": [
    {
      "cell_type": "markdown",
      "metadata": {
        "id": "view-in-github",
        "colab_type": "text"
      },
      "source": [
        "<a href=\"https://colab.research.google.com/github/Misheal-22/Loan-Approval-Prediction-Model/blob/main/Loan_Approval_Prediction.ipynb\" target=\"_parent\"><img src=\"https://colab.research.google.com/assets/colab-badge.svg\" alt=\"Open In Colab\"/></a>"
      ]
    },
    {
      "cell_type": "code",
      "execution_count": 1,
      "metadata": {
        "colab": {
          "base_uri": "https://localhost:8080/"
        },
        "id": "PquC4V3_UygV",
        "outputId": "cb92ab21-05a5-4dde-8074-21086b7f4585"
      },
      "outputs": [
        {
          "output_type": "stream",
          "name": "stdout",
          "text": [
            "Requirement already satisfied: pandas in /usr/local/lib/python3.12/dist-packages (2.2.2)\n",
            "Requirement already satisfied: numpy in /usr/local/lib/python3.12/dist-packages (2.0.2)\n",
            "Requirement already satisfied: scikit-learn in /usr/local/lib/python3.12/dist-packages (1.6.1)\n",
            "Requirement already satisfied: imbalanced-learn in /usr/local/lib/python3.12/dist-packages (0.14.0)\n",
            "Requirement already satisfied: matplotlib in /usr/local/lib/python3.12/dist-packages (3.10.0)\n",
            "Requirement already satisfied: seaborn in /usr/local/lib/python3.12/dist-packages (0.13.2)\n",
            "Requirement already satisfied: python-dateutil>=2.8.2 in /usr/local/lib/python3.12/dist-packages (from pandas) (2.9.0.post0)\n",
            "Requirement already satisfied: pytz>=2020.1 in /usr/local/lib/python3.12/dist-packages (from pandas) (2025.2)\n",
            "Requirement already satisfied: tzdata>=2022.7 in /usr/local/lib/python3.12/dist-packages (from pandas) (2025.2)\n",
            "Requirement already satisfied: scipy>=1.6.0 in /usr/local/lib/python3.12/dist-packages (from scikit-learn) (1.16.1)\n",
            "Requirement already satisfied: joblib>=1.2.0 in /usr/local/lib/python3.12/dist-packages (from scikit-learn) (1.5.2)\n",
            "Requirement already satisfied: threadpoolctl>=3.1.0 in /usr/local/lib/python3.12/dist-packages (from scikit-learn) (3.6.0)\n",
            "Requirement already satisfied: contourpy>=1.0.1 in /usr/local/lib/python3.12/dist-packages (from matplotlib) (1.3.3)\n",
            "Requirement already satisfied: cycler>=0.10 in /usr/local/lib/python3.12/dist-packages (from matplotlib) (0.12.1)\n",
            "Requirement already satisfied: fonttools>=4.22.0 in /usr/local/lib/python3.12/dist-packages (from matplotlib) (4.59.2)\n",
            "Requirement already satisfied: kiwisolver>=1.3.1 in /usr/local/lib/python3.12/dist-packages (from matplotlib) (1.4.9)\n",
            "Requirement already satisfied: packaging>=20.0 in /usr/local/lib/python3.12/dist-packages (from matplotlib) (25.0)\n",
            "Requirement already satisfied: pillow>=8 in /usr/local/lib/python3.12/dist-packages (from matplotlib) (11.3.0)\n",
            "Requirement already satisfied: pyparsing>=2.3.1 in /usr/local/lib/python3.12/dist-packages (from matplotlib) (3.2.3)\n",
            "Requirement already satisfied: six>=1.5 in /usr/local/lib/python3.12/dist-packages (from python-dateutil>=2.8.2->pandas) (1.17.0)\n"
          ]
        }
      ],
      "source": [
        "pip install pandas numpy scikit-learn imbalanced-learn matplotlib seaborn\n"
      ]
    },
    {
      "cell_type": "code",
      "source": [
        "import pandas as pd\n",
        "import numpy as np\n",
        "from sklearn.model_selection import train_test_split, GridSearchCV, StratifiedKFold\n",
        "from sklearn.impute import SimpleImputer\n",
        "from sklearn.preprocessing import StandardScaler, OneHotEncoder\n",
        "from sklearn.compose import ColumnTransformer\n",
        "from sklearn.pipeline import Pipeline\n",
        "from sklearn.linear_model import LogisticRegression\n",
        "from sklearn.tree import DecisionTreeClassifier, plot_tree\n",
        "from sklearn.metrics import classification_report, confusion_matrix, roc_auc_score, precision_recall_fscore_support\n",
        "from imblearn.over_sampling import SMOTE\n",
        "from imblearn.pipeline import Pipeline as ImbPipeline\n",
        "import matplotlib.pyplot as plt\n",
        "import seaborn as sns"
      ],
      "metadata": {
        "id": "sNZ8D4a5VNrc"
      },
      "execution_count": 2,
      "outputs": []
    },
    {
      "cell_type": "code",
      "source": [
        "!pip install opendatasets"
      ],
      "metadata": {
        "colab": {
          "base_uri": "https://localhost:8080/"
        },
        "id": "iuWPdE7-V4o8",
        "outputId": "289f05c2-d4cf-4dc4-830f-dffdb39242a4"
      },
      "execution_count": 5,
      "outputs": [
        {
          "output_type": "stream",
          "name": "stdout",
          "text": [
            "Collecting opendatasets\n",
            "  Downloading opendatasets-0.1.22-py3-none-any.whl.metadata (9.2 kB)\n",
            "Requirement already satisfied: tqdm in /usr/local/lib/python3.12/dist-packages (from opendatasets) (4.67.1)\n",
            "Requirement already satisfied: kaggle in /usr/local/lib/python3.12/dist-packages (from opendatasets) (1.7.4.5)\n",
            "Requirement already satisfied: click in /usr/local/lib/python3.12/dist-packages (from opendatasets) (8.2.1)\n",
            "Requirement already satisfied: bleach in /usr/local/lib/python3.12/dist-packages (from kaggle->opendatasets) (6.2.0)\n",
            "Requirement already satisfied: certifi>=14.05.14 in /usr/local/lib/python3.12/dist-packages (from kaggle->opendatasets) (2025.8.3)\n",
            "Requirement already satisfied: charset-normalizer in /usr/local/lib/python3.12/dist-packages (from kaggle->opendatasets) (3.4.3)\n",
            "Requirement already satisfied: idna in /usr/local/lib/python3.12/dist-packages (from kaggle->opendatasets) (3.10)\n",
            "Requirement already satisfied: protobuf in /usr/local/lib/python3.12/dist-packages (from kaggle->opendatasets) (5.29.5)\n",
            "Requirement already satisfied: python-dateutil>=2.5.3 in /usr/local/lib/python3.12/dist-packages (from kaggle->opendatasets) (2.9.0.post0)\n",
            "Requirement already satisfied: python-slugify in /usr/local/lib/python3.12/dist-packages (from kaggle->opendatasets) (8.0.4)\n",
            "Requirement already satisfied: requests in /usr/local/lib/python3.12/dist-packages (from kaggle->opendatasets) (2.32.4)\n",
            "Requirement already satisfied: setuptools>=21.0.0 in /usr/local/lib/python3.12/dist-packages (from kaggle->opendatasets) (75.2.0)\n",
            "Requirement already satisfied: six>=1.10 in /usr/local/lib/python3.12/dist-packages (from kaggle->opendatasets) (1.17.0)\n",
            "Requirement already satisfied: text-unidecode in /usr/local/lib/python3.12/dist-packages (from kaggle->opendatasets) (1.3)\n",
            "Requirement already satisfied: urllib3>=1.15.1 in /usr/local/lib/python3.12/dist-packages (from kaggle->opendatasets) (2.5.0)\n",
            "Requirement already satisfied: webencodings in /usr/local/lib/python3.12/dist-packages (from kaggle->opendatasets) (0.5.1)\n",
            "Downloading opendatasets-0.1.22-py3-none-any.whl (15 kB)\n",
            "Installing collected packages: opendatasets\n",
            "Successfully installed opendatasets-0.1.22\n"
          ]
        }
      ]
    },
    {
      "cell_type": "code",
      "source": [
        "import opendatasets as od\n",
        "od.download(\"https://www.kaggle.com/datasets/architsharma01/loan-approval-prediction-dataset\")"
      ],
      "metadata": {
        "colab": {
          "base_uri": "https://localhost:8080/"
        },
        "id": "qmOo57bBV-kT",
        "outputId": "4401734a-1d00-45a5-81fd-2819db21d9ad"
      },
      "execution_count": 6,
      "outputs": [
        {
          "output_type": "stream",
          "name": "stdout",
          "text": [
            "Please provide your Kaggle credentials to download this dataset. Learn more: http://bit.ly/kaggle-creds\n",
            "Your Kaggle username: misheal22\n",
            "Your Kaggle Key: ··········\n",
            "Dataset URL: https://www.kaggle.com/datasets/architsharma01/loan-approval-prediction-dataset\n",
            "Downloading loan-approval-prediction-dataset.zip to ./loan-approval-prediction-dataset\n"
          ]
        },
        {
          "output_type": "stream",
          "name": "stderr",
          "text": [
            "100%|██████████| 80.6k/80.6k [00:00<00:00, 86.7MB/s]"
          ]
        },
        {
          "output_type": "stream",
          "name": "stdout",
          "text": [
            "\n"
          ]
        },
        {
          "output_type": "stream",
          "name": "stderr",
          "text": [
            "\n"
          ]
        }
      ]
    },
    {
      "cell_type": "code",
      "source": [
        "import pandas as pd\n",
        "data=pd.read_csv(\"loan-approval-prediction-dataset/loan_approval_dataset.csv\")\n",
        "data.head()"
      ],
      "metadata": {
        "colab": {
          "base_uri": "https://localhost:8080/",
          "height": 261
        },
        "id": "uhiRFBDUXAST",
        "outputId": "5bdcb66a-4700-4e67-a007-77edc9a96972"
      },
      "execution_count": 7,
      "outputs": [
        {
          "output_type": "execute_result",
          "data": {
            "text/plain": [
              "   loan_id   no_of_dependents      education  self_employed   income_annum  \\\n",
              "0        1                  2       Graduate             No        9600000   \n",
              "1        2                  0   Not Graduate            Yes        4100000   \n",
              "2        3                  3       Graduate             No        9100000   \n",
              "3        4                  3       Graduate             No        8200000   \n",
              "4        5                  5   Not Graduate            Yes        9800000   \n",
              "\n",
              "    loan_amount   loan_term   cibil_score   residential_assets_value  \\\n",
              "0      29900000          12           778                    2400000   \n",
              "1      12200000           8           417                    2700000   \n",
              "2      29700000          20           506                    7100000   \n",
              "3      30700000           8           467                   18200000   \n",
              "4      24200000          20           382                   12400000   \n",
              "\n",
              "    commercial_assets_value   luxury_assets_value   bank_asset_value  \\\n",
              "0                  17600000              22700000            8000000   \n",
              "1                   2200000               8800000            3300000   \n",
              "2                   4500000              33300000           12800000   \n",
              "3                   3300000              23300000            7900000   \n",
              "4                   8200000              29400000            5000000   \n",
              "\n",
              "   loan_status  \n",
              "0     Approved  \n",
              "1     Rejected  \n",
              "2     Rejected  \n",
              "3     Rejected  \n",
              "4     Rejected  "
            ],
            "text/html": [
              "\n",
              "  <div id=\"df-d788fa14-0c84-42ee-aecc-b322e2de1a29\" class=\"colab-df-container\">\n",
              "    <div>\n",
              "<style scoped>\n",
              "    .dataframe tbody tr th:only-of-type {\n",
              "        vertical-align: middle;\n",
              "    }\n",
              "\n",
              "    .dataframe tbody tr th {\n",
              "        vertical-align: top;\n",
              "    }\n",
              "\n",
              "    .dataframe thead th {\n",
              "        text-align: right;\n",
              "    }\n",
              "</style>\n",
              "<table border=\"1\" class=\"dataframe\">\n",
              "  <thead>\n",
              "    <tr style=\"text-align: right;\">\n",
              "      <th></th>\n",
              "      <th>loan_id</th>\n",
              "      <th>no_of_dependents</th>\n",
              "      <th>education</th>\n",
              "      <th>self_employed</th>\n",
              "      <th>income_annum</th>\n",
              "      <th>loan_amount</th>\n",
              "      <th>loan_term</th>\n",
              "      <th>cibil_score</th>\n",
              "      <th>residential_assets_value</th>\n",
              "      <th>commercial_assets_value</th>\n",
              "      <th>luxury_assets_value</th>\n",
              "      <th>bank_asset_value</th>\n",
              "      <th>loan_status</th>\n",
              "    </tr>\n",
              "  </thead>\n",
              "  <tbody>\n",
              "    <tr>\n",
              "      <th>0</th>\n",
              "      <td>1</td>\n",
              "      <td>2</td>\n",
              "      <td>Graduate</td>\n",
              "      <td>No</td>\n",
              "      <td>9600000</td>\n",
              "      <td>29900000</td>\n",
              "      <td>12</td>\n",
              "      <td>778</td>\n",
              "      <td>2400000</td>\n",
              "      <td>17600000</td>\n",
              "      <td>22700000</td>\n",
              "      <td>8000000</td>\n",
              "      <td>Approved</td>\n",
              "    </tr>\n",
              "    <tr>\n",
              "      <th>1</th>\n",
              "      <td>2</td>\n",
              "      <td>0</td>\n",
              "      <td>Not Graduate</td>\n",
              "      <td>Yes</td>\n",
              "      <td>4100000</td>\n",
              "      <td>12200000</td>\n",
              "      <td>8</td>\n",
              "      <td>417</td>\n",
              "      <td>2700000</td>\n",
              "      <td>2200000</td>\n",
              "      <td>8800000</td>\n",
              "      <td>3300000</td>\n",
              "      <td>Rejected</td>\n",
              "    </tr>\n",
              "    <tr>\n",
              "      <th>2</th>\n",
              "      <td>3</td>\n",
              "      <td>3</td>\n",
              "      <td>Graduate</td>\n",
              "      <td>No</td>\n",
              "      <td>9100000</td>\n",
              "      <td>29700000</td>\n",
              "      <td>20</td>\n",
              "      <td>506</td>\n",
              "      <td>7100000</td>\n",
              "      <td>4500000</td>\n",
              "      <td>33300000</td>\n",
              "      <td>12800000</td>\n",
              "      <td>Rejected</td>\n",
              "    </tr>\n",
              "    <tr>\n",
              "      <th>3</th>\n",
              "      <td>4</td>\n",
              "      <td>3</td>\n",
              "      <td>Graduate</td>\n",
              "      <td>No</td>\n",
              "      <td>8200000</td>\n",
              "      <td>30700000</td>\n",
              "      <td>8</td>\n",
              "      <td>467</td>\n",
              "      <td>18200000</td>\n",
              "      <td>3300000</td>\n",
              "      <td>23300000</td>\n",
              "      <td>7900000</td>\n",
              "      <td>Rejected</td>\n",
              "    </tr>\n",
              "    <tr>\n",
              "      <th>4</th>\n",
              "      <td>5</td>\n",
              "      <td>5</td>\n",
              "      <td>Not Graduate</td>\n",
              "      <td>Yes</td>\n",
              "      <td>9800000</td>\n",
              "      <td>24200000</td>\n",
              "      <td>20</td>\n",
              "      <td>382</td>\n",
              "      <td>12400000</td>\n",
              "      <td>8200000</td>\n",
              "      <td>29400000</td>\n",
              "      <td>5000000</td>\n",
              "      <td>Rejected</td>\n",
              "    </tr>\n",
              "  </tbody>\n",
              "</table>\n",
              "</div>\n",
              "    <div class=\"colab-df-buttons\">\n",
              "\n",
              "  <div class=\"colab-df-container\">\n",
              "    <button class=\"colab-df-convert\" onclick=\"convertToInteractive('df-d788fa14-0c84-42ee-aecc-b322e2de1a29')\"\n",
              "            title=\"Convert this dataframe to an interactive table.\"\n",
              "            style=\"display:none;\">\n",
              "\n",
              "  <svg xmlns=\"http://www.w3.org/2000/svg\" height=\"24px\" viewBox=\"0 -960 960 960\">\n",
              "    <path d=\"M120-120v-720h720v720H120Zm60-500h600v-160H180v160Zm220 220h160v-160H400v160Zm0 220h160v-160H400v160ZM180-400h160v-160H180v160Zm440 0h160v-160H620v160ZM180-180h160v-160H180v160Zm440 0h160v-160H620v160Z\"/>\n",
              "  </svg>\n",
              "    </button>\n",
              "\n",
              "  <style>\n",
              "    .colab-df-container {\n",
              "      display:flex;\n",
              "      gap: 12px;\n",
              "    }\n",
              "\n",
              "    .colab-df-convert {\n",
              "      background-color: #E8F0FE;\n",
              "      border: none;\n",
              "      border-radius: 50%;\n",
              "      cursor: pointer;\n",
              "      display: none;\n",
              "      fill: #1967D2;\n",
              "      height: 32px;\n",
              "      padding: 0 0 0 0;\n",
              "      width: 32px;\n",
              "    }\n",
              "\n",
              "    .colab-df-convert:hover {\n",
              "      background-color: #E2EBFA;\n",
              "      box-shadow: 0px 1px 2px rgba(60, 64, 67, 0.3), 0px 1px 3px 1px rgba(60, 64, 67, 0.15);\n",
              "      fill: #174EA6;\n",
              "    }\n",
              "\n",
              "    .colab-df-buttons div {\n",
              "      margin-bottom: 4px;\n",
              "    }\n",
              "\n",
              "    [theme=dark] .colab-df-convert {\n",
              "      background-color: #3B4455;\n",
              "      fill: #D2E3FC;\n",
              "    }\n",
              "\n",
              "    [theme=dark] .colab-df-convert:hover {\n",
              "      background-color: #434B5C;\n",
              "      box-shadow: 0px 1px 3px 1px rgba(0, 0, 0, 0.15);\n",
              "      filter: drop-shadow(0px 1px 2px rgba(0, 0, 0, 0.3));\n",
              "      fill: #FFFFFF;\n",
              "    }\n",
              "  </style>\n",
              "\n",
              "    <script>\n",
              "      const buttonEl =\n",
              "        document.querySelector('#df-d788fa14-0c84-42ee-aecc-b322e2de1a29 button.colab-df-convert');\n",
              "      buttonEl.style.display =\n",
              "        google.colab.kernel.accessAllowed ? 'block' : 'none';\n",
              "\n",
              "      async function convertToInteractive(key) {\n",
              "        const element = document.querySelector('#df-d788fa14-0c84-42ee-aecc-b322e2de1a29');\n",
              "        const dataTable =\n",
              "          await google.colab.kernel.invokeFunction('convertToInteractive',\n",
              "                                                    [key], {});\n",
              "        if (!dataTable) return;\n",
              "\n",
              "        const docLinkHtml = 'Like what you see? Visit the ' +\n",
              "          '<a target=\"_blank\" href=https://colab.research.google.com/notebooks/data_table.ipynb>data table notebook</a>'\n",
              "          + ' to learn more about interactive tables.';\n",
              "        element.innerHTML = '';\n",
              "        dataTable['output_type'] = 'display_data';\n",
              "        await google.colab.output.renderOutput(dataTable, element);\n",
              "        const docLink = document.createElement('div');\n",
              "        docLink.innerHTML = docLinkHtml;\n",
              "        element.appendChild(docLink);\n",
              "      }\n",
              "    </script>\n",
              "  </div>\n",
              "\n",
              "\n",
              "    <div id=\"df-851f2112-5df0-4454-9eeb-77931fa830b7\">\n",
              "      <button class=\"colab-df-quickchart\" onclick=\"quickchart('df-851f2112-5df0-4454-9eeb-77931fa830b7')\"\n",
              "                title=\"Suggest charts\"\n",
              "                style=\"display:none;\">\n",
              "\n",
              "<svg xmlns=\"http://www.w3.org/2000/svg\" height=\"24px\"viewBox=\"0 0 24 24\"\n",
              "     width=\"24px\">\n",
              "    <g>\n",
              "        <path d=\"M19 3H5c-1.1 0-2 .9-2 2v14c0 1.1.9 2 2 2h14c1.1 0 2-.9 2-2V5c0-1.1-.9-2-2-2zM9 17H7v-7h2v7zm4 0h-2V7h2v10zm4 0h-2v-4h2v4z\"/>\n",
              "    </g>\n",
              "</svg>\n",
              "      </button>\n",
              "\n",
              "<style>\n",
              "  .colab-df-quickchart {\n",
              "      --bg-color: #E8F0FE;\n",
              "      --fill-color: #1967D2;\n",
              "      --hover-bg-color: #E2EBFA;\n",
              "      --hover-fill-color: #174EA6;\n",
              "      --disabled-fill-color: #AAA;\n",
              "      --disabled-bg-color: #DDD;\n",
              "  }\n",
              "\n",
              "  [theme=dark] .colab-df-quickchart {\n",
              "      --bg-color: #3B4455;\n",
              "      --fill-color: #D2E3FC;\n",
              "      --hover-bg-color: #434B5C;\n",
              "      --hover-fill-color: #FFFFFF;\n",
              "      --disabled-bg-color: #3B4455;\n",
              "      --disabled-fill-color: #666;\n",
              "  }\n",
              "\n",
              "  .colab-df-quickchart {\n",
              "    background-color: var(--bg-color);\n",
              "    border: none;\n",
              "    border-radius: 50%;\n",
              "    cursor: pointer;\n",
              "    display: none;\n",
              "    fill: var(--fill-color);\n",
              "    height: 32px;\n",
              "    padding: 0;\n",
              "    width: 32px;\n",
              "  }\n",
              "\n",
              "  .colab-df-quickchart:hover {\n",
              "    background-color: var(--hover-bg-color);\n",
              "    box-shadow: 0 1px 2px rgba(60, 64, 67, 0.3), 0 1px 3px 1px rgba(60, 64, 67, 0.15);\n",
              "    fill: var(--button-hover-fill-color);\n",
              "  }\n",
              "\n",
              "  .colab-df-quickchart-complete:disabled,\n",
              "  .colab-df-quickchart-complete:disabled:hover {\n",
              "    background-color: var(--disabled-bg-color);\n",
              "    fill: var(--disabled-fill-color);\n",
              "    box-shadow: none;\n",
              "  }\n",
              "\n",
              "  .colab-df-spinner {\n",
              "    border: 2px solid var(--fill-color);\n",
              "    border-color: transparent;\n",
              "    border-bottom-color: var(--fill-color);\n",
              "    animation:\n",
              "      spin 1s steps(1) infinite;\n",
              "  }\n",
              "\n",
              "  @keyframes spin {\n",
              "    0% {\n",
              "      border-color: transparent;\n",
              "      border-bottom-color: var(--fill-color);\n",
              "      border-left-color: var(--fill-color);\n",
              "    }\n",
              "    20% {\n",
              "      border-color: transparent;\n",
              "      border-left-color: var(--fill-color);\n",
              "      border-top-color: var(--fill-color);\n",
              "    }\n",
              "    30% {\n",
              "      border-color: transparent;\n",
              "      border-left-color: var(--fill-color);\n",
              "      border-top-color: var(--fill-color);\n",
              "      border-right-color: var(--fill-color);\n",
              "    }\n",
              "    40% {\n",
              "      border-color: transparent;\n",
              "      border-right-color: var(--fill-color);\n",
              "      border-top-color: var(--fill-color);\n",
              "    }\n",
              "    60% {\n",
              "      border-color: transparent;\n",
              "      border-right-color: var(--fill-color);\n",
              "    }\n",
              "    80% {\n",
              "      border-color: transparent;\n",
              "      border-right-color: var(--fill-color);\n",
              "      border-bottom-color: var(--fill-color);\n",
              "    }\n",
              "    90% {\n",
              "      border-color: transparent;\n",
              "      border-bottom-color: var(--fill-color);\n",
              "    }\n",
              "  }\n",
              "</style>\n",
              "\n",
              "      <script>\n",
              "        async function quickchart(key) {\n",
              "          const quickchartButtonEl =\n",
              "            document.querySelector('#' + key + ' button');\n",
              "          quickchartButtonEl.disabled = true;  // To prevent multiple clicks.\n",
              "          quickchartButtonEl.classList.add('colab-df-spinner');\n",
              "          try {\n",
              "            const charts = await google.colab.kernel.invokeFunction(\n",
              "                'suggestCharts', [key], {});\n",
              "          } catch (error) {\n",
              "            console.error('Error during call to suggestCharts:', error);\n",
              "          }\n",
              "          quickchartButtonEl.classList.remove('colab-df-spinner');\n",
              "          quickchartButtonEl.classList.add('colab-df-quickchart-complete');\n",
              "        }\n",
              "        (() => {\n",
              "          let quickchartButtonEl =\n",
              "            document.querySelector('#df-851f2112-5df0-4454-9eeb-77931fa830b7 button');\n",
              "          quickchartButtonEl.style.display =\n",
              "            google.colab.kernel.accessAllowed ? 'block' : 'none';\n",
              "        })();\n",
              "      </script>\n",
              "    </div>\n",
              "\n",
              "    </div>\n",
              "  </div>\n"
            ],
            "application/vnd.google.colaboratory.intrinsic+json": {
              "type": "dataframe",
              "variable_name": "data",
              "summary": "{\n  \"name\": \"data\",\n  \"rows\": 4269,\n  \"fields\": [\n    {\n      \"column\": \"loan_id\",\n      \"properties\": {\n        \"dtype\": \"number\",\n        \"std\": 1232,\n        \"min\": 1,\n        \"max\": 4269,\n        \"num_unique_values\": 4269,\n        \"samples\": [\n          1704,\n          1174,\n          309\n        ],\n        \"semantic_type\": \"\",\n        \"description\": \"\"\n      }\n    },\n    {\n      \"column\": \" no_of_dependents\",\n      \"properties\": {\n        \"dtype\": \"number\",\n        \"std\": 1,\n        \"min\": 0,\n        \"max\": 5,\n        \"num_unique_values\": 6,\n        \"samples\": [\n          2,\n          0,\n          1\n        ],\n        \"semantic_type\": \"\",\n        \"description\": \"\"\n      }\n    },\n    {\n      \"column\": \" education\",\n      \"properties\": {\n        \"dtype\": \"category\",\n        \"num_unique_values\": 2,\n        \"samples\": [\n          \" Not Graduate\",\n          \" Graduate\"\n        ],\n        \"semantic_type\": \"\",\n        \"description\": \"\"\n      }\n    },\n    {\n      \"column\": \" self_employed\",\n      \"properties\": {\n        \"dtype\": \"category\",\n        \"num_unique_values\": 2,\n        \"samples\": [\n          \" Yes\",\n          \" No\"\n        ],\n        \"semantic_type\": \"\",\n        \"description\": \"\"\n      }\n    },\n    {\n      \"column\": \" income_annum\",\n      \"properties\": {\n        \"dtype\": \"number\",\n        \"std\": 2806839,\n        \"min\": 200000,\n        \"max\": 9900000,\n        \"num_unique_values\": 98,\n        \"samples\": [\n          6200000,\n          9300000\n        ],\n        \"semantic_type\": \"\",\n        \"description\": \"\"\n      }\n    },\n    {\n      \"column\": \" loan_amount\",\n      \"properties\": {\n        \"dtype\": \"number\",\n        \"std\": 9043362,\n        \"min\": 300000,\n        \"max\": 39500000,\n        \"num_unique_values\": 378,\n        \"samples\": [\n          25800000,\n          26100000\n        ],\n        \"semantic_type\": \"\",\n        \"description\": \"\"\n      }\n    },\n    {\n      \"column\": \" loan_term\",\n      \"properties\": {\n        \"dtype\": \"number\",\n        \"std\": 5,\n        \"min\": 2,\n        \"max\": 20,\n        \"num_unique_values\": 10,\n        \"samples\": [\n          14,\n          8\n        ],\n        \"semantic_type\": \"\",\n        \"description\": \"\"\n      }\n    },\n    {\n      \"column\": \" cibil_score\",\n      \"properties\": {\n        \"dtype\": \"number\",\n        \"std\": 172,\n        \"min\": 300,\n        \"max\": 900,\n        \"num_unique_values\": 601,\n        \"samples\": [\n          859,\n          414\n        ],\n        \"semantic_type\": \"\",\n        \"description\": \"\"\n      }\n    },\n    {\n      \"column\": \" residential_assets_value\",\n      \"properties\": {\n        \"dtype\": \"number\",\n        \"std\": 6503636,\n        \"min\": -100000,\n        \"max\": 29100000,\n        \"num_unique_values\": 278,\n        \"samples\": [\n          700000,\n          3500000\n        ],\n        \"semantic_type\": \"\",\n        \"description\": \"\"\n      }\n    },\n    {\n      \"column\": \" commercial_assets_value\",\n      \"properties\": {\n        \"dtype\": \"number\",\n        \"std\": 4388966,\n        \"min\": 0,\n        \"max\": 19400000,\n        \"num_unique_values\": 188,\n        \"samples\": [\n          13500000,\n          14600000\n        ],\n        \"semantic_type\": \"\",\n        \"description\": \"\"\n      }\n    },\n    {\n      \"column\": \" luxury_assets_value\",\n      \"properties\": {\n        \"dtype\": \"number\",\n        \"std\": 9103753,\n        \"min\": 300000,\n        \"max\": 39200000,\n        \"num_unique_values\": 379,\n        \"samples\": [\n          15300000,\n          12100000\n        ],\n        \"semantic_type\": \"\",\n        \"description\": \"\"\n      }\n    },\n    {\n      \"column\": \" bank_asset_value\",\n      \"properties\": {\n        \"dtype\": \"number\",\n        \"std\": 3250185,\n        \"min\": 0,\n        \"max\": 14700000,\n        \"num_unique_values\": 146,\n        \"samples\": [\n          4800000,\n          14400000\n        ],\n        \"semantic_type\": \"\",\n        \"description\": \"\"\n      }\n    },\n    {\n      \"column\": \" loan_status\",\n      \"properties\": {\n        \"dtype\": \"category\",\n        \"num_unique_values\": 2,\n        \"samples\": [\n          \" Rejected\",\n          \" Approved\"\n        ],\n        \"semantic_type\": \"\",\n        \"description\": \"\"\n      }\n    }\n  ]\n}"
            }
          },
          "metadata": {},
          "execution_count": 7
        }
      ]
    },
    {
      "cell_type": "markdown",
      "source": [
        "QUICK EDA"
      ],
      "metadata": {
        "id": "GpBAKI60YMR-"
      }
    },
    {
      "cell_type": "code",
      "source": [
        "print(\"\\nMissing values per column:\")\n",
        "print(data.isna().sum().sort_values(ascending=False))"
      ],
      "metadata": {
        "colab": {
          "base_uri": "https://localhost:8080/"
        },
        "id": "VbiTPLUqX7B1",
        "outputId": "1587a5d9-145f-4ff3-8b86-e3d00b082e6a"
      },
      "execution_count": 8,
      "outputs": [
        {
          "output_type": "stream",
          "name": "stdout",
          "text": [
            "\n",
            "Missing values per column:\n",
            "loan_id                      0\n",
            " no_of_dependents            0\n",
            " education                   0\n",
            " self_employed               0\n",
            " income_annum                0\n",
            " loan_amount                 0\n",
            " loan_term                   0\n",
            " cibil_score                 0\n",
            " residential_assets_value    0\n",
            " commercial_assets_value     0\n",
            " luxury_assets_value         0\n",
            " bank_asset_value            0\n",
            " loan_status                 0\n",
            "dtype: int64\n"
          ]
        }
      ]
    },
    {
      "cell_type": "markdown",
      "source": [
        "DETECTING TARGET AUTOMATICALLY"
      ],
      "metadata": {
        "id": "XhInoSeLYSVp"
      }
    },
    {
      "cell_type": "code",
      "source": [
        "possible_targets = ['Loan_Status', 'Loan_Status ', 'Loan_Status', 'approved', 'Approved', 'status', 'Loan_Status']\n",
        "target = None\n",
        "for t in ['Loan_Status', 'Loan_Status ', 'Loan_Status', 'Loan_Status', 'Approved', 'approved', 'Status', 'status', 'Outcome', 'Loan_Status']:\n",
        "    if t in data.columns:\n",
        "        target = t\n",
        "        break\n",
        "\n",
        "if target is None:\n",
        "    target = data.columns[-1]\n",
        "    print(f\"\\nWarning: couldn't detect common target names. Using last column as target: '{target}'\")\n",
        "\n",
        "print(\"\\nUsing target:\", target)\n",
        "print(data[target].value_counts(dropna=False))\n"
      ],
      "metadata": {
        "colab": {
          "base_uri": "https://localhost:8080/"
        },
        "id": "Ge_qB3ObYYUc",
        "outputId": "350b1da1-0a8a-4e30-9d98-45975a5bac82"
      },
      "execution_count": 9,
      "outputs": [
        {
          "output_type": "stream",
          "name": "stdout",
          "text": [
            "\n",
            "Warning: couldn't detect common target names. Using last column as target: ' loan_status'\n",
            "\n",
            "Using target:  loan_status\n",
            " loan_status\n",
            "Approved    2656\n",
            "Rejected    1613\n",
            "Name: count, dtype: int64\n"
          ]
        }
      ]
    },
    {
      "cell_type": "markdown",
      "source": [
        "MAPPING TARGET TO BINARY (IF NOT NUMERIC)"
      ],
      "metadata": {
        "id": "NaLhfXcAYnI1"
      }
    },
    {
      "cell_type": "code",
      "source": [
        "if data[target].dtype == 'object' or not np.issubdtype(data[target].dtype, np.number):\n",
        "    print(\"\\nMapping target to binary (Approved -> 1, others -> 0) heuristically.\")\n",
        "\n",
        "    mapping = {}\n",
        "    vals = data[target].dropna().unique().tolist()\n",
        "\n",
        "    for v in vals:\n",
        "        s = str(v).strip().lower()\n",
        "        if s in ['y', 'yes', 'approved', 'approve', '1', 'true', 'accepted']:\n",
        "            mapping[v] = 1\n",
        "        else:\n",
        "            mapping[v] = 0\n",
        "    data[target] = data[target].map(mapping).astype(int)"
      ],
      "metadata": {
        "colab": {
          "base_uri": "https://localhost:8080/"
        },
        "id": "ypjhZbdFYt29",
        "outputId": "9c410d7b-e6ee-4a6d-dc7f-aab567b551dd"
      },
      "execution_count": 10,
      "outputs": [
        {
          "output_type": "stream",
          "name": "stdout",
          "text": [
            "\n",
            "Mapping target to binary (Approved -> 1, others -> 0) heuristically.\n"
          ]
        }
      ]
    },
    {
      "cell_type": "markdown",
      "source": [
        "SPLIT FEATURES AND TARGET"
      ],
      "metadata": {
        "id": "TJqv0rBlY_N_"
      }
    },
    {
      "cell_type": "code",
      "source": [
        "X = data.drop(columns=[target])\n",
        "y = data[target].astype(int)"
      ],
      "metadata": {
        "id": "acIFB_JKZEah"
      },
      "execution_count": 11,
      "outputs": []
    },
    {
      "cell_type": "markdown",
      "source": [
        "IDENTIFY NUMERIC AND CATEGORICAL COLUMNS"
      ],
      "metadata": {
        "id": "ia1qCJQKZKFl"
      }
    },
    {
      "cell_type": "code",
      "source": [
        "numeric_cols = X.select_dtypes(include=[np.number]).columns.tolist()\n",
        "cat_cols = X.select_dtypes(include=['object', 'category']).columns.tolist()\n",
        "print(\"\\nNumeric columns:\", numeric_cols)\n",
        "print(\"Categorical columns:\", cat_cols)"
      ],
      "metadata": {
        "colab": {
          "base_uri": "https://localhost:8080/"
        },
        "id": "FIkAc-y2ZQsj",
        "outputId": "ee673f54-5733-4d6e-ea55-ea544b550632"
      },
      "execution_count": 12,
      "outputs": [
        {
          "output_type": "stream",
          "name": "stdout",
          "text": [
            "\n",
            "Numeric columns: ['loan_id', ' no_of_dependents', ' income_annum', ' loan_amount', ' loan_term', ' cibil_score', ' residential_assets_value', ' commercial_assets_value', ' luxury_assets_value', ' bank_asset_value']\n",
            "Categorical columns: [' education', ' self_employed']\n"
          ]
        }
      ]
    },
    {
      "cell_type": "markdown",
      "source": [
        "CORECE"
      ],
      "metadata": {
        "id": "cuvY2TLrZbaY"
      }
    },
    {
      "cell_type": "code",
      "source": [
        "for c in cat_cols[:]:\n",
        "    try:\n",
        "        coerced = pd.to_numeric(X[c].dropna())\n",
        "        # if a substantial portion can be coerced to numeric, convert column\n",
        "        if len(coerced) / max(1, len(X[c].dropna())) > 0.8:\n",
        "            X[c] = pd.to_numeric(X[c], errors='coerce')\n",
        "            numeric_cols.append(c)\n",
        "            cat_cols.remove(c)\n",
        "    except Exception:\n",
        "        pass\n",
        "\n",
        "print(\"\\nAfter coercion Numeric:\", numeric_cols)\n",
        "print(\"After coercion Categorical:\", cat_cols)"
      ],
      "metadata": {
        "colab": {
          "base_uri": "https://localhost:8080/"
        },
        "id": "n2nrxiIZZfFJ",
        "outputId": "957c8832-b415-4bcb-9a03-537dec60faa1"
      },
      "execution_count": 13,
      "outputs": [
        {
          "output_type": "stream",
          "name": "stdout",
          "text": [
            "\n",
            "After coercion Numeric: ['loan_id', ' no_of_dependents', ' income_annum', ' loan_amount', ' loan_term', ' cibil_score', ' residential_assets_value', ' commercial_assets_value', ' luxury_assets_value', ' bank_asset_value']\n",
            "After coercion Categorical: [' education', ' self_employed']\n"
          ]
        }
      ]
    },
    {
      "cell_type": "markdown",
      "source": [
        "PREPROCESSING PIPELINES"
      ],
      "metadata": {
        "id": "dVrBQfZ4Zvvz"
      }
    },
    {
      "cell_type": "code",
      "source": [
        "numeric_transformer = Pipeline(steps=[\n",
        "    ('imputer', SimpleImputer(strategy='median')),\n",
        "    ('scaler', StandardScaler())\n",
        "])\n",
        "\n",
        "# For categorical: impute missing with 'MISSING', then one-hot encode (drop='if_binary' to reduce col count)\n",
        "categorical_transformer = Pipeline(steps=[\n",
        "    ('imputer', SimpleImputer(strategy='constant', fill_value='MISSING')),\n",
        "    ('onehot', OneHotEncoder(handle_unknown='ignore'))\n",
        "])\n",
        "\n",
        "preprocessor = ColumnTransformer(\n",
        "    transformers=[\n",
        "        ('num', numeric_transformer, numeric_cols),\n",
        "        ('cat', categorical_transformer, cat_cols)\n",
        "    ],\n",
        "    remainder='drop'  # drop any other columns\n",
        ")"
      ],
      "metadata": {
        "id": "NkoqZbmKZnlY"
      },
      "execution_count": 15,
      "outputs": []
    },
    {
      "cell_type": "markdown",
      "source": [
        "SPLIT DATA"
      ],
      "metadata": {
        "id": "ak50DEVXZ9PE"
      }
    },
    {
      "cell_type": "code",
      "source": [
        "X_train, X_test, y_train, y_test = train_test_split(\n",
        "    X, y, test_size=0.2, random_state=42, stratify=y\n",
        ")\n",
        "print(\"\\nTrain class distribution:\\n\", y_train.value_counts(normalize=True))\n",
        "print(\"Test class distribution:\\n\", y_test.value_counts(normalize=True))\n",
        "\n",
        "# ---------------------------\n",
        "# Option A: Baseline with class_weight\n",
        "# ---------------------------\n",
        "\n",
        "pipe_lr = Pipeline(steps=[\n",
        "    ('pre', preprocessor),\n",
        "    ('clf', LogisticRegression(max_iter=1000, class_weight='balanced', solver='liblinear'))\n",
        "])\n",
        "\n",
        "pipe_dt = Pipeline(steps=[\n",
        "    ('pre', preprocessor),\n",
        "    ('clf', DecisionTreeClassifier(class_weight='balanced', random_state=42))\n",
        "])\n",
        "\n",
        "def evaluate_model(model, X_test, y_test, name=\"Model\"):\n",
        "    y_pred = model.predict(X_test)\n",
        "    y_proba = None\n",
        "    if hasattr(model, \"predict_proba\"):\n",
        "        try:\n",
        "            y_proba = model.predict_proba(X_test)[:, 1]\n",
        "        except:\n",
        "            y_proba = None\n",
        "    print(f\"\\n=== Evaluation: {name} ===\")\n",
        "    print(classification_report(y_test, y_pred, digits=4))\n",
        "    cm = confusion_matrix(y_test, y_pred)\n",
        "    sns.heatmap(cm, annot=True, fmt='d', cmap='Blues')\n",
        "    plt.title(f\"Confusion matrix: {name}\")\n",
        "    plt.xlabel(\"Predicted\")\n",
        "    plt.ylabel(\"Actual\")\n",
        "    plt.show()\n",
        "    if y_proba is not None:\n",
        "        auc = roc_auc_score(y_test, y_proba)\n",
        "        print(f\"ROC AUC: {auc:.4f}\")\n",
        "\n",
        "# Fit baselines\n",
        "print(\"\\nTraining baseline LogisticRegression (class_weight='balanced') ...\")\n",
        "pipe_lr.fit(X_train, y_train)\n",
        "evaluate_model(pipe_lr, X_test, y_test, \"LogisticRegression (class_weight)\")\n",
        "\n",
        "print(\"\\nTraining baseline DecisionTree (class_weight='balanced') ...\")\n",
        "pipe_dt.fit(X_train, y_train)\n",
        "evaluate_model(pipe_dt, X_test, y_test, \"DecisionTree (class_weight)\")\n",
        "\n",
        "# ---------------------------\n",
        "# Option B: SMOTE then modeling (recommended when minority is small)\n",
        "# ---------------------------\n",
        "\n",
        "# Build an imblearn pipeline: preprocessing (fit on entire training set inside pipeline),\n",
        "# then SMOTE (only on training), then classifier\n",
        "smote = SMOTE(random_state=42)\n",
        "\n",
        "imb_pipe_lr = ImbPipeline(steps=[\n",
        "    ('pre', preprocessor),\n",
        "    ('smote', smote),\n",
        "    ('clf', LogisticRegression(max_iter=1000, solver='liblinear'))\n",
        "])\n",
        "\n",
        "imb_pipe_dt = ImbPipeline(steps=[\n",
        "    ('pre', preprocessor),\n",
        "    ('smote', smote),\n",
        "    ('clf', DecisionTreeClassifier(random_state=42))\n",
        "])\n",
        "\n",
        "print(\"\\nTraining with SMOTE + LogisticRegression ...\")\n",
        "imb_pipe_lr.fit(X_train, y_train)\n",
        "evaluate_model(imb_pipe_lr, X_test, y_test, \"SMOTE + LogisticRegression\")\n",
        "\n",
        "print(\"\\nTraining with SMOTE + DecisionTree ...\")\n",
        "imb_pipe_dt.fit(X_train, y_train)\n",
        "evaluate_model(imb_pipe_dt, X_test, y_test, \"SMOTE + DecisionTree\")\n",
        "\n",
        "# ---------------------------\n",
        "# Hyperparameter tuning (GridSearchCV) optimizing F1 or Recall\n",
        "# ---------------------------\n",
        "print(\"\\nGrid search example for DecisionTree (focusing on F1)...\")\n",
        "param_grid_dt = {\n",
        "    'clf__max_depth': [3, 5, 7, None],\n",
        "    'clf__min_samples_leaf': [1, 5, 10],\n",
        "    'clf__criterion': ['gini', 'entropy']\n",
        "}\n",
        "\n",
        "# Wrap pipeline with SMOTE (imb pipeline) for grid search\n",
        "gs_pipe_dt = ImbPipeline(steps=[\n",
        "    ('pre', preprocessor),\n",
        "    ('smote', SMOTE(random_state=42)),\n",
        "    ('clf', DecisionTreeClassifier(random_state=42))\n",
        "])\n",
        "\n",
        "cv = StratifiedKFold(n_splits=5, shuffle=True, random_state=42)\n",
        "gs = GridSearchCV(gs_pipe_dt, param_grid_dt, scoring='f1', cv=cv, n_jobs=-1, verbose=1)\n",
        "gs.fit(X_train, y_train)\n",
        "print(\"Best params:\", gs.best_params_)\n",
        "best_dt = gs.best_estimator_\n",
        "evaluate_model(best_dt, X_test, y_test, \"Tuned DecisionTree (SMOTE, F1-focused)\")\n",
        "\n",
        "# Get feature importances (requires mapping OHE feature names)\n",
        "def get_feature_names(column_transformer):\n",
        "    # adapted helper to extract feature names\n",
        "    feature_names = []\n",
        "    if hasattr(column_transformer, 'transformers_'):\n",
        "        for name, trans, cols in column_transformer.transformers_:\n",
        "            if name == 'num':\n",
        "                feature_names.extend(cols)\n",
        "            elif name == 'cat':\n",
        "                # onehot encoder\n",
        "                ohe = trans.named_steps['onehot']\n",
        "                imputer = trans.named_steps['imputer']\n",
        "                cat_cols_local = cols\n",
        "                if hasattr(ohe, 'get_feature_names_out'):\n",
        "                    names = ohe.get_feature_names_out(cat_cols_local).tolist()\n",
        "                else:\n",
        "                    names = []\n",
        "                    for i, c in enumerate(cat_cols_local):\n",
        "                        # fallback\n",
        "                        names.append(c)\n",
        "                feature_names.extend(names)\n",
        "    return feature_names\n",
        "\n",
        "try:\n",
        "    feat_names = get_feature_names(preprocessor)\n",
        "    if hasattr(best_dt.named_steps['clf'], 'feature_importances_'):\n",
        "        importances = best_dt.named_steps['clf'].feature_importances_\n",
        "        feat_imp = pd.Series(importances, index=feat_names).sort_values(ascending=False).head(20)\n",
        "        print(\"\\nTop feature importances (DecisionTree):\")\n",
        "        print(feat_imp)\n",
        "        feat_imp.plot(kind='barh')\n",
        "        plt.gca().invert_yaxis()\n",
        "        plt.show()\n",
        "except Exception as e:\n",
        "    print(\"Could not compute feature names/importances:\", e)\n",
        "\n",
        "# For logistic regression coefficients (SMOTE + LR)\n",
        "try:\n",
        "    if isinstance(imb_pipe_lr.named_steps['clf'], LogisticRegression):\n",
        "        lr = imb_pipe_lr.named_steps['clf']\n",
        "        coef = lr.coef_[0]\n",
        "        feat_names = get_feature_names(preprocessor)\n",
        "        coef_ser = pd.Series(coef, index=feat_names).sort_values(key=abs, ascending=False).head(20)\n",
        "        print(\"\\nTop logistic coefficients (absolute):\")\n",
        "        print(coef_ser)\n",
        "except Exception as e:\n",
        "    print(\"Couldn't extract logistic coefficients:\", e)\n",
        "\n",
        "# ---------------------------\n",
        "# Additional outputs: summary metrics\n",
        "# ---------------------------\n",
        "def summary_metrics(model, X_test, y_test, label):\n",
        "    y_pred = model.predict(X_test)\n",
        "    p, r, f1, _ = precision_recall_fscore_support(y_test, y_pred, average='binary')\n",
        "    auc = None\n",
        "    if hasattr(model, \"predict_proba\"):\n",
        "        try:\n",
        "            auc = roc_auc_score(y_test, model.predict_proba(X_test)[:, 1])\n",
        "        except:\n",
        "            auc = None\n",
        "    return {'model': label, 'precision': p, 'recall': r, 'f1': f1, 'roc_auc': auc}\n",
        "\n",
        "models = [\n",
        "    (pipe_lr, \"LR (class_weight)\"),\n",
        "    (pipe_dt, \"DT (class_weight)\"),\n",
        "    (imb_pipe_lr, \"LR (SMOTE)\"),\n",
        "    (imb_pipe_dt, \"DT (SMOTE)\"),\n",
        "    (best_dt, \"DT (Tuned + SMOTE)\")\n",
        "]\n",
        "\n",
        "metrics = []\n",
        "for m, name in models:\n",
        "    try:\n",
        "        metrics.append(summary_metrics(m, X_test, y_test, name))\n",
        "    except Exception as e:\n",
        "        print(\"Error summarizing\", name, e)\n",
        "\n",
        "metrics_df = pd.DataFrame(metrics).sort_values(by='f1', ascending=False)\n",
        "print(\"\\nModel comparison (by F1):\")\n",
        "print(metrics_df)\n",
        "\n",
        "# Save results\n",
        "metrics_df.to_csv(\"model_comparison_metrics.csv\", index=False)\n",
        "print(\"\\nSaved model_comparison_metrics.csv\")"
      ],
      "metadata": {
        "colab": {
          "base_uri": "https://localhost:8080/",
          "height": 1000
        },
        "id": "c6AsRb8FaF7G",
        "outputId": "fab14df7-511b-481a-bfd9-fc1b4d5587bd"
      },
      "execution_count": 17,
      "outputs": [
        {
          "output_type": "stream",
          "name": "stdout",
          "text": [
            "\n",
            "Train class distribution:\n",
            "  loan_status\n",
            "1    0.622255\n",
            "0    0.377745\n",
            "Name: proportion, dtype: float64\n",
            "Test class distribution:\n",
            "  loan_status\n",
            "1    0.62178\n",
            "0    0.37822\n",
            "Name: proportion, dtype: float64\n",
            "\n",
            "Training baseline LogisticRegression (class_weight='balanced') ...\n",
            "\n",
            "=== Evaluation: LogisticRegression (class_weight) ===\n",
            "              precision    recall  f1-score   support\n",
            "\n",
            "           0     0.8779    0.9350    0.9055       323\n",
            "           1     0.9588    0.9209    0.9395       531\n",
            "\n",
            "    accuracy                         0.9262       854\n",
            "   macro avg     0.9184    0.9279    0.9225       854\n",
            "weighted avg     0.9282    0.9262    0.9266       854\n",
            "\n"
          ]
        },
        {
          "output_type": "display_data",
          "data": {
            "text/plain": [
              "<Figure size 640x480 with 2 Axes>"
            ],
            "image/png": "[encoded data removed]"
          },
          "metadata": {}
        },
        {
          "output_type": "stream",
          "name": "stdout",
          "text": [
            "ROC AUC: 0.9731\n",
            "\n",
            "Training baseline DecisionTree (class_weight='balanced') ...\n",
            "\n",
            "=== Evaluation: DecisionTree (class_weight) ===\n",
            "              precision    recall  f1-score   support\n",
            "\n",
            "           0     0.9842    0.9628    0.9734       323\n",
            "           1     0.9777    0.9906    0.9841       531\n",
            "\n",
            "    accuracy                         0.9801       854\n",
            "   macro avg     0.9809    0.9767    0.9787       854\n",
            "weighted avg     0.9801    0.9801    0.9800       854\n",
            "\n"
          ]
        },
        {
          "output_type": "display_data",
          "data": {
            "text/plain": [
              "<Figure size 640x480 with 2 Axes>"
            ],
            "image/png": "[encoded data removed]"
          },
          "metadata": {}
        },
        {
          "output_type": "stream",
          "name": "stdout",
          "text": [
            "ROC AUC: 0.9767\n",
            "\n",
            "Training with SMOTE + LogisticRegression ...\n",
            "\n",
            "=== Evaluation: SMOTE + LogisticRegression ===\n",
            "              precision    recall  f1-score   support\n",
            "\n",
            "           0     0.8801    0.9319    0.9053       323\n",
            "           1     0.9570    0.9228    0.9396       531\n",
            "\n",
            "    accuracy                         0.9262       854\n",
            "   macro avg     0.9186    0.9273    0.9224       854\n",
            "weighted avg     0.9279    0.9262    0.9266       854\n",
            "\n"
          ]
        },
        {
          "output_type": "display_data",
          "data": {
            "text/plain": [
              "<Figure size 640x480 with 2 Axes>"
            ],
            "image/png": "[encoded data removed]"
          },
          "metadata": {}
        },
        {
          "output_type": "stream",
          "name": "stdout",
          "text": [
            "ROC AUC: 0.9731\n",
            "\n",
            "Training with SMOTE + DecisionTree ...\n",
            "\n",
            "=== Evaluation: SMOTE + DecisionTree ===\n",
            "              precision    recall  f1-score   support\n",
            "\n",
            "           0     0.9689    0.9659    0.9674       323\n",
            "           1     0.9793    0.9812    0.9802       531\n",
            "\n",
            "    accuracy                         0.9754       854\n",
            "   macro avg     0.9741    0.9736    0.9738       854\n",
            "weighted avg     0.9754    0.9754    0.9754       854\n",
            "\n"
          ]
        },
        {
          "output_type": "display_data",
          "data": {
            "text/plain": [
              "<Figure size 640x480 with 2 Axes>"
            ],
            "image/png": "[encoded data removed]"
          },
          "metadata": {}
        },
        {
          "output_type": "stream",
          "name": "stdout",
          "text": [
            "ROC AUC: 0.9736\n",
            "\n",
            "Grid search example for DecisionTree (focusing on F1)...\n",
            "Fitting 5 folds for each of 24 candidates, totalling 120 fits\n",
            "Best params: {'clf__criterion': 'entropy', 'clf__max_depth': None, 'clf__min_samples_leaf': 5}\n",
            "\n",
            "=== Evaluation: Tuned DecisionTree (SMOTE, F1-focused) ===\n",
            "              precision    recall  f1-score   support\n",
            "\n",
            "           0     0.9844    0.9783    0.9814       323\n",
            "           1     0.9869    0.9906    0.9887       531\n",
            "\n",
            "    accuracy                         0.9859       854\n",
            "   macro avg     0.9856    0.9845    0.9850       854\n",
            "weighted avg     0.9859    0.9859    0.9859       854\n",
            "\n"
          ]
        },
        {
          "output_type": "display_data",
          "data": {
            "text/plain": [
              "<Figure size 640x480 with 2 Axes>"
            ],
            "image/png": "[encoded data removed]"
          },
          "metadata": {}
        },
        {
          "output_type": "stream",
          "name": "stdout",
          "text": [
            "ROC AUC: 0.9894\n",
            "\n",
            "Top feature importances (DecisionTree):\n",
            " cibil_score                 0.785554\n",
            " loan_term                   0.116440\n",
            " loan_amount                 0.035652\n",
            " income_annum                0.026981\n",
            " residential_assets_value    0.017879\n",
            " commercial_assets_value     0.008186\n",
            " luxury_assets_value         0.003689\n",
            " bank_asset_value            0.002386\n",
            " no_of_dependents            0.001545\n",
            " self_employed_ No           0.001197\n",
            " education_ Not Graduate     0.000492\n",
            "loan_id                      0.000000\n",
            " education_ Graduate         0.000000\n",
            " self_employed_ Yes          0.000000\n",
            "dtype: float64\n"
          ]
        },
        {
          "output_type": "display_data",
          "data": {
            "text/plain": [
              "<Figure size 640x480 with 1 Axes>"
            ],
            "image/png": "[encoded data removed]"
          },
          "metadata": {}
        },
        {
          "output_type": "stream",
          "name": "stdout",
          "text": [
            "\n",
            "Top logistic coefficients (absolute):\n",
            " cibil_score                 4.387133\n",
            " income_annum               -1.602542\n",
            " loan_amount                 1.383489\n",
            " loan_term                  -0.813662\n",
            " education_ Graduate         0.404373\n",
            " self_employed_ Yes          0.356281\n",
            " self_employed_ No           0.348364\n",
            " education_ Not Graduate     0.300272\n",
            " bank_asset_value            0.144981\n",
            " luxury_assets_value         0.141352\n",
            " commercial_assets_value     0.066284\n",
            "loan_id                      0.062549\n",
            " residential_assets_value    0.055299\n",
            " no_of_dependents           -0.044275\n",
            "dtype: float64\n",
            "\n",
            "Model comparison (by F1):\n",
            "                model  precision    recall        f1   roc_auc\n",
            "4  DT (Tuned + SMOTE)   0.986867  0.990584  0.988722  0.989362\n",
            "1   DT (class_weight)   0.977695  0.990584  0.984097  0.976716\n",
            "3          DT (SMOTE)   0.979323  0.981168  0.980245  0.973556\n",
            "2          LR (SMOTE)   0.957031  0.922787  0.939597  0.973075\n",
            "0   LR (class_weight)   0.958824  0.920904  0.939481  0.973122\n",
            "\n",
            "Saved model_comparison_metrics.csv\n"
          ]
        }
      ]
    }
  ]
}